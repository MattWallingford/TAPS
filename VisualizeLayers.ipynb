{
 "cells": [
  {
   "cell_type": "markdown",
   "metadata": {},
   "source": [
    "# Layer Visualization\n",
    "\n",
    "The following notebook can be used to visualize which layers are adapted by TAPS for each experiment. The percentage of parameters changed are also calculated. "
   ]
  },
  {
   "cell_type": "code",
   "execution_count": 71,
   "metadata": {},
   "outputs": [],
   "source": [
    "#Import packages. You'll need to install seaborn, matplotlib, and pandas\n",
    "import torch\n",
    "import numpy as np\n",
    "import seaborn as sns\n",
    "import matplotlib.pylab as plt\n",
    "import pandas as pd\n",
    "import timm\n",
    "from models.taps_net import resnet50, resnet101, resnet34"
   ]
  },
  {
   "cell_type": "code",
   "execution_count": 72,
   "metadata": {},
   "outputs": [],
   "source": [
    "#Set the model architecture\n",
    "model = resnet50()\n",
    "\n",
    "#Set your experiment folders and root\n",
    "model_names = ['CUBS', 'DN_sketch']\n",
    "experiment_root = './results/'\n",
    "\n",
    "#Set the gating threshold used during training. (Default is .1)\n",
    "threshold = .1"
   ]
  },
  {
   "cell_type": "code",
   "execution_count": 76,
   "metadata": {},
   "outputs": [
    {
     "data": {
      "text/html": [
       "<style  type=\"text/css\" >\n",
       "</style><table id=\"T_6e0f77ec_4b3e_11ed_8071_49009316f0b6\" ><caption>Ratio of Parameters Adapted by Task</caption><thead>    <tr>        <th class=\"blank level0\" ></th>        <th class=\"col_heading level0 col0\" >cubs_r50_cropped_2</th>        <th class=\"col_heading level0 col1\" >cubs_r50_cropped_3</th>    </tr></thead><tbody>\n",
       "                <tr>\n",
       "                        <th id=\"T_6e0f77ec_4b3e_11ed_8071_49009316f0b6level0_row0\" class=\"row_heading level0 row0\" >% Parameters Changed</th>\n",
       "                        <td id=\"T_6e0f77ec_4b3e_11ed_8071_49009316f0b6row0_col0\" class=\"data row0 col0\" >0.609517</td>\n",
       "                        <td id=\"T_6e0f77ec_4b3e_11ed_8071_49009316f0b6row0_col1\" class=\"data row0 col1\" >0.299237</td>\n",
       "            </tr>\n",
       "    </tbody></table>"
      ],
      "text/plain": [
       "<pandas.io.formats.style.Styler at 0x7fd163d394c0>"
      ]
     },
     "execution_count": 76,
     "metadata": {},
     "output_type": "execute_result"
    }
   ],
   "source": [
    "activated_params = []\n",
    "accs = []\n",
    "scores = []\n",
    "for j in model_names:\n",
    "    acc = 100 - np.min(np.load(experiment_root + j + '/val_err.npy'))\n",
    "    accs.append(acc)\n",
    "    model_file = experiment_root + j + '/model_best.pth'\n",
    "    state_dict = torch.load(model_file)['state_dict']\n",
    "    del state_dict['fc.weight']\n",
    "    del state_dict['fc.bias']\n",
    "    model.load_state_dict(state_dict, strict = False)\n",
    "    indicators = []\n",
    "    params = model.named_parameters()\n",
    "    param_dict = dict(model.named_parameters())\n",
    "    total = 0\n",
    "    active = 0\n",
    "    for i in params:\n",
    "        if not('residual' in i[0]):\n",
    "            total += i[1].numel()\n",
    "        if 'bn' in i[0]:\n",
    "            active += i[1].numel()\n",
    "        \n",
    "        if 'indicator' in i[0] and i[1] >= threshold:\n",
    "            w = param_dict[i[0][:-9] + 'weight']\n",
    "            active += w.numel()\n",
    "    activated_params.append(active/total)\n",
    "    score = model.getIndicators()\n",
    "    score = [float(x[0]) for x in score]\n",
    "    scores.append(score)\n",
    "df = pd.DataFrame([activated_params], columns=model_names, index = ['% Parameters Changed'])\n",
    "df = df.style.set_caption(\"Ratio of Parameters Adapted by Task\")\n",
    "df"
   ]
  },
  {
   "cell_type": "code",
   "execution_count": 74,
   "metadata": {},
   "outputs": [
    {
     "data": {
      "image/png": "[encoded data removed]",
      "text/plain": [
       "<Figure size 1728x432 with 2 Axes>"
      ]
     },
     "metadata": {},
     "output_type": "display_data"
    }
   ],
   "source": [
    "#Plot which layers have been modified by TAPS. Layer 0 is the first layer of the network.\n",
    "on = np.array(scores) > .1\n",
    "ax = sns.heatmap(on, linewidth=0.5, cmap = sns.color_palette(\"crest\"), center = .1, yticklabels=model_names)\n",
    "sns.set(rc = {'figure.figsize':(24,6)})\n",
    "plt.yticks(np.arange(len(model_names))+0.5,model_names,\n",
    "           rotation=0, fontsize=\"10\", va=\"center\")\n",
    "plt.title(\"Adapted Layers\", size = 'x-large')\n",
    "plt.show()"
   ]
  }
 ],
 "metadata": {
  "kernelspec": {
   "display_name": "default",
   "language": "python",
   "name": "default"
  },
  "language_info": {
   "codemirror_mode": {
    "name": "ipython",
    "version": 3
   },
   "file_extension": ".py",
   "mimetype": "text/x-python",
   "name": "python",
   "nbconvert_exporter": "python",
   "pygments_lexer": "ipython3",
   "version": "3.8.12"
  }
 },
 "nbformat": 4,
 "nbformat_minor": 4
}
